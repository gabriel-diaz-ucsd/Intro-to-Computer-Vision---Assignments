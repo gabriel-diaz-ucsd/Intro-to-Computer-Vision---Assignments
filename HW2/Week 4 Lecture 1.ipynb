{
 "cells": [
  {
   "cell_type": "markdown",
   "metadata": {},
   "source": [
    "Week 4 Lecture 1"
   ]
  },
  {
   "cell_type": "code",
   "execution_count": null,
   "metadata": {},
   "outputs": [],
   "source": [
    "#append to list:\n",
    "a = [1,2,3]\n",
    "print(a+[4])\n",
    "print(a.append(4))\n",
    "\n",
    "#remove last element\n",
    "print(a.pop())"
   ]
  },
  {
   "cell_type": "code",
   "execution_count": 2,
   "metadata": {},
   "outputs": [
    {
     "ename": "SyntaxError",
     "evalue": "invalid syntax (1069588601.py, line 10)",
     "output_type": "error",
     "traceback": [
      "\u001b[0;36m  File \u001b[0;32m\"/var/folders/z9/vfndf44j0x3_0vgnjv1v5q_00000gn/T/ipykernel_1478/1069588601.py\"\u001b[0;36m, line \u001b[0;32m10\u001b[0m\n\u001b[0;31m    a[3:5] = [-1:0]\u001b[0m\n\u001b[0m                ^\u001b[0m\n\u001b[0;31mSyntaxError\u001b[0m\u001b[0;31m:\u001b[0m invalid syntax\n"
     ]
    }
   ],
   "source": [
    "#Slicing\n",
    "\n",
    "a = list(range(10))\n",
    "print(a)\n",
    "\n",
    "#Select slices\n",
    "print(a[3:7])\n",
    "\n",
    "#Modify sublists\n",
    "a[3:5] = [-1:0]\n",
    "print(a)\n"
   ]
  },
  {
   "cell_type": "code",
   "execution_count": 4,
   "metadata": {},
   "outputs": [
    {
     "name": "stdout",
     "output_type": "stream",
     "text": [
      "0 0\n",
      "1 1\n",
      "2 2\n",
      "3 3\n",
      "4 4\n",
      "5 5\n",
      "6 6\n",
      "7 7\n",
      "8 8\n",
      "9 9\n"
     ]
    }
   ],
   "source": [
    "a = list(range(10))\n",
    "\n",
    "#Enumerate\n",
    "for pos, var in enumerate(a):\n",
    "    print(pos,var)"
   ]
  },
  {
   "cell_type": "code",
   "execution_count": null,
   "metadata": {},
   "outputs": [],
   "source": [
    "#dictionaries\n",
    "a_dict = {}\n",
    "b_dict = {'abc':1, 'def':2}\n",
    "\n",
    "b_dict['abc'] = 3\n",
    "print(b_dict)\n",
    "\n",
    "print(b_dict['def'])\n",
    "\n",
    "print(b_dict.get('g','NA'))\n",
    "\n",
    "del b_dict['def']\n",
    "print(b_dict)"
   ]
  },
  {
   "cell_type": "code",
   "execution_count": null,
   "metadata": {},
   "outputs": [],
   "source": [
    "#Numpy\n",
    "\n",
    "#np arrays vs lists: can only store elements of the same type in np arrays\n",
    "a = np.array([1,2,3], dtype=np.float)\n",
    "print(a)\n",
    "\n",
    "print(a.dtype)\n",
    "a = np.array([[1,2,3],[4,5,6],[7,8,9]])\n",
    "\n",
    "\n"
   ]
  },
  {
   "cell_type": "code",
   "execution_count": 8,
   "metadata": {},
   "outputs": [
    {
     "name": "stdout",
     "output_type": "stream",
     "text": [
      "[[1. 0. 0. 0.]\n",
      " [0. 1. 0. 0.]\n",
      " [0. 0. 1. 0.]\n",
      " [0. 0. 0. 1.]]\n",
      "[[6 4 6]\n",
      " [4 4 5]\n",
      " [1 7 9]]\n",
      "[[4]\n",
      " [4]]\n",
      "[[-1]\n",
      " [-1]]\n",
      "[[ 6 -1  6]\n",
      " [ 4 -1  5]\n",
      " [ 1  7  9]]\n"
     ]
    }
   ],
   "source": [
    "import numpy as np\n",
    "\n",
    "#np.zeros/ones((m,n))\n",
    "\n",
    "#array of constants:\n",
    "\n",
    "#identity matrix of that size\n",
    "print(np.eye((4))) \n",
    "\n",
    "#array indexing and slicing\n",
    "a = np.random.randint(1,10,size=(3,3))\n",
    "print(a)\n",
    "\n",
    "#slicing\n",
    "print(a[:2,1:2])\n",
    "\n",
    "#sub-arrays and modding:\n",
    "b = a[:2,1:2]\n",
    "a[:2,1:2] = [[-1],[-1]]\n",
    "print(b)\n",
    "print(a)\n",
    "\n"
   ]
  },
  {
   "cell_type": "code",
   "execution_count": 10,
   "metadata": {},
   "outputs": [
    {
     "name": "stdout",
     "output_type": "stream",
     "text": [
      "[0 1 2 3 4 5 6 7 8 9]\n",
      "[0 5 6]\n",
      "[0 1 2 3 4 5 6 7 8]\n",
      "[5 6 7 8 9]\n"
     ]
    }
   ],
   "source": [
    "#Array indexing:\n",
    "a = np.arange(10)\n",
    "print(a)\n",
    "b = [0,5,6]\n",
    "print(a[b])\n",
    "\n",
    "print(a[:-1])\n",
    "\n",
    "\n",
    "#Boolean indexing:\n",
    "b = a > 4\n",
    "print(a[b])"
   ]
  },
  {
   "cell_type": "code",
   "execution_count": null,
   "metadata": {},
   "outputs": [],
   "source": [
    "#Reshaping arrays:\n",
    "\n",
    "a = np.random.randint(1,10,size=(3,3))\n",
    "print(a)\n",
    "print(np.reshape(a,(9,1)))\n",
    "\n",
    "#Transpose or arrays:\n",
    "print(a.T)\n",
    "\n",
    "#Stacking\n",
    "b = np.random.randint()\n"
   ]
  },
  {
   "cell_type": "code",
   "execution_count": null,
   "metadata": {},
   "outputs": [],
   "source": [
    "#Math ops:\n",
    "c = np.array([3,4,5])\n",
    "print(a.dot(c))"
   ]
  },
  {
   "cell_type": "code",
   "execution_count": null,
   "metadata": {},
   "outputs": [],
   "source": [
    "#BROADCASTING\n",
    "\n",
    "#you're expanging the smaller array to a compatible shape so you can do the operation fast\n",
    "\n",
    "a = np.array([1,2,3,4])\n",
    "c = a * 2\n",
    "\n",
    "temp = [2,2,2,2]\n",
    "\n",
    "a = np.random.randint(0,10,size=(3,2))\n",
    "print(a.shape)"
   ]
  }
 ],
 "metadata": {
  "interpreter": {
   "hash": "9d1f2b9dc6ac590fb1d3578e7edd064d59472f2d86a6b128e389e381c4d0910c"
  },
  "kernelspec": {
   "display_name": "Python 3.9.7 ('base')",
   "language": "python",
   "name": "python3"
  },
  "language_info": {
   "codemirror_mode": {
    "name": "ipython",
    "version": 3
   },
   "file_extension": ".py",
   "mimetype": "text/x-python",
   "name": "python",
   "nbconvert_exporter": "python",
   "pygments_lexer": "ipython3",
   "version": "3.9.7"
  },
  "orig_nbformat": 4
 },
 "nbformat": 4,
 "nbformat_minor": 2
}
